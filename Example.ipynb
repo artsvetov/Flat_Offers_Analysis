{
 "cells": [
  {
   "cell_type": "code",
   "execution_count": 1,
   "metadata": {},
   "outputs": [],
   "source": [
    "from Domofond_Parsing_Funcs import Domofond_Parser"
   ]
  },
  {
   "cell_type": "code",
   "execution_count": 2,
   "metadata": {},
   "outputs": [
    {
     "name": "stdout",
     "output_type": "stream",
     "text": [
      "Получаем количество страниц с недвижимостью.\n",
      "Всего в данный момент на сайте 385 страниц\n",
      "Начинаю просматривать страницы..\n",
      "Парсинг окончен.Работаю с данными...\n",
      "Сохраняем данные...\n",
      "Данные на момент 30-01-2021__16-58 сохранены!\n",
      "Парсинг закончен.Начался:30.01.2021__11:52,а закончился 30-01-2021__16-58\n"
     ]
    }
   ],
   "source": [
    "Domofond_Parser()"
   ]
  }
 ],
 "metadata": {
  "kernelspec": {
   "display_name": "Python 3",
   "language": "python",
   "name": "python3"
  },
  "language_info": {
   "codemirror_mode": {
    "name": "ipython",
    "version": 3
   },
   "file_extension": ".py",
   "mimetype": "text/x-python",
   "name": "python",
   "nbconvert_exporter": "python",
   "pygments_lexer": "ipython3",
   "version": "3.8.3"
  }
 },
 "nbformat": 4,
 "nbformat_minor": 4
}
